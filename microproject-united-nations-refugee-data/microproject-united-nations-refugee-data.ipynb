{
 "cells": [
  {
   "attachments": {},
   "cell_type": "markdown",
   "metadata": {},
   "source": [
    "<h1 style=\"text-align: center\">\n",
    "<div style=\"color: #DD3403; font-size: 60%\">Data Science DISCOVERY MicroProject</div>\n",
    "<span style=\"\">MicroProject: United Nations (UNHCR) Refugee Data</span>\n",
    "<div style=\"font-size: 60%;\"><a href=\"https://discovery.cs.illinois.edu/microproject/united-nations-refugee-data/\">https://discovery.cs.illinois.edu/microproject/united-nations-refugee-data/</a></div>\n",
    "</h1>\n",
    "\n",
    "<hr style=\"color: #DD3403;\">"
   ]
  },
  {
   "attachments": {},
   "cell_type": "markdown",
   "metadata": {},
   "source": [
    "## Data Source: UNHCR\n",
    "\n",
    "\n",
    "The United Nations High Commissioner for Refugees (UNHCR) is a United Nations agency mandated to aid and protect refugees, forcibly displaced communities, and stateless people, and to assist in their voluntary repatriation, local integration or resettlement to a third country. \n",
    "\n",
    "The UNHCR has a [database](https://data2.unhcr.org/en/situations) of refugees and internally displaced persons (IDPs) around the world. The data is updated daily and includes information on the number of refugees and IDPs, the countries they are from, the countries they are in, and the number of people who have been displaced by conflict or natural disasters.\n",
    "\n",
    "They also have a public [API](https://www.unhcr.org/en-us/global-public-api.html) that allows you to access the data programmatically.\n",
    "\n",
    "To see the API documentation, click [here](https://api.unhcr.org/docs/index.html#_ga=2.166773182.1023458810.1680805825-396435536.1679438542)."
   ]
  },
  {
   "attachments": {},
   "cell_type": "markdown",
   "metadata": {},
   "source": [
    "<hr style=\"color: #DD3403;\">"
   ]
  },
  {
   "attachments": {},
   "cell_type": "markdown",
   "metadata": {},
   "source": [
    "## Getting Started: Importing Necessary Libraries"
   ]
  },
  {
   "attachments": {},
   "cell_type": "markdown",
   "metadata": {},
   "source": [
    "To work with APIs, we need to import the `requests` library. We will also import `pandas` to work with the data. Also import `matplotlib` for visualization.\n",
    "\n",
    "Type the following code into a new cell in your Jupyter notebook. \n",
    "\n",
    "```python\n",
    "import requests\n",
    "import pandas as pd\n",
    "```"
   ]
  },
  {
   "cell_type": "code",
   "execution_count": 32,
   "metadata": {},
   "outputs": [],
   "source": [
    "import requests\n",
    "import pandas as pd"
   ]
  },
  {
   "attachments": {},
   "cell_type": "markdown",
   "metadata": {},
   "source": [
    "<hr style=\"color: #DD3403;\">"
   ]
  },
  {
   "attachments": {},
   "cell_type": "markdown",
   "metadata": {},
   "source": [
    "## Part 1: Fetching Refugees Data for a Single Year"
   ]
  },
  {
   "attachments": {},
   "cell_type": "markdown",
   "metadata": {},
   "source": [
    "The UNHCR API allows you to query the data by year."
   ]
  },
  {
   "attachments": {},
   "cell_type": "markdown",
   "metadata": {},
   "source": [
    "### Puzzle 1.1: Get Avaliable Years"
   ]
  },
  {
   "attachments": {},
   "cell_type": "markdown",
   "metadata": {},
   "source": [
    "The first thing we need to do is figure out what years are available in the API. To do this, we need to look at the API documentation.\n",
    "\n",
    "The documentation includes a GET request that we can use to get the data. The request is:\n",
    "\n",
    "```\n",
    "http://api.unhcr.org/rsq/v1/years\n",
    "```\n",
    "\n",
    "Using the `requests` library, we can make a GET request to this URL. Type the following code into a new cell in your Jupyter notebook.\n",
    "\n",
    "```python\n",
    "response = requests.get(\"http://api.unhcr.org/rsq/v1/years\")\n",
    "```\n",
    "\n",
    "We will also need to convert the response to JSON format. Use the following code to do this.\n",
    "\n",
    "```python\n",
    "response.json()\n",
    "```\n",
    "\n",
    "Save the list of years to a list called `years`."
   ]
  },
  {
   "cell_type": "code",
   "execution_count": 33,
   "metadata": {},
   "outputs": [
    {
     "data": {
      "text/plain": [
       "[2003,\n",
       " 2004,\n",
       " 2005,\n",
       " 2006,\n",
       " 2007,\n",
       " 2008,\n",
       " 2009,\n",
       " 2010,\n",
       " 2011,\n",
       " 2012,\n",
       " 2013,\n",
       " 2014,\n",
       " 2015,\n",
       " 2016,\n",
       " 2017,\n",
       " 2018,\n",
       " 2019,\n",
       " 2020,\n",
       " 2021,\n",
       " 2022,\n",
       " 2023]"
      ]
     },
     "execution_count": 33,
     "metadata": {},
     "output_type": "execute_result"
    }
   ],
   "source": [
    "response = requests.get(\"http://api.unhcr.org/rsq/v1/years\")\n",
    "years = response.json()\n",
    "years"
   ]
  },
  {
   "cell_type": "code",
   "execution_count": 34,
   "metadata": {},
   "outputs": [
    {
     "name": "stdout",
     "output_type": "stream",
     "text": [
      "🎉 All tests passed! 🎉\n"
     ]
    }
   ],
   "source": [
    "## == CHECKPOINT TEST CASES for Part 1.1 ==\n",
    "# - This read-only cell contains test cases for your previous cell.\n",
    "# - If this cell runs without any error our output, you PASSED all test cases!\n",
    "# - If this cell results in any errors, check you previous cell, make changes, and RE-RUN your code and then this cell.\n",
    "assert('years' in vars()), \"Did you define a variable called years?\"\n",
    "assert(years[0] < years[1]), \"It looks like you did not get the correct response\"\n",
    "assert(years[-2] < years[-1]), \"It looks like you did not get the correct response\"\n",
    "\n",
    "## == SUCCESS MESSAGE ==\n",
    "# You will only see this message (with the emoji showing) if you passed all test cases:\n",
    "tada = \"\\N{PARTY POPPER}\"\n",
    "print(f\"{tada} All tests passed! {tada}\")"
   ]
  },
  {
   "attachments": {},
   "cell_type": "markdown",
   "metadata": {},
   "source": [
    "### Puzzle 1.2: Getting the Number of Refugees for a Single Year"
   ]
  },
  {
   "attachments": {},
   "cell_type": "markdown",
   "metadata": {},
   "source": [
    "According to the United Nations, 2016 is the year with the most refugees. Let's get the number of refugees for 2016.\n",
    "\n",
    "The documentation includes a GET request to the `/submissions` endpoint. The endpoint takes a parameter called `year`. The request is in the following format, except that `{year}` must be replaced with the year of interest (in our case, 2016):\n",
    "\n",
    "```\n",
    "http://api.unhcr.org/rsq/v1/submissions?year={year}\n",
    "```\n",
    "\n",
    "Just like in Puzzle #1.1, the GET request will return a JSON object.  Fetch the data from the URL above and store the JSON data as `refugees_data_2016` using the same command as you did in the previous puzzle:\n",
    "\n",
    "```\n",
    "refugees_data_2016 = response.json()\n",
    "```"
   ]
  },
  {
   "cell_type": "code",
   "execution_count": 35,
   "metadata": {},
   "outputs": [
    {
     "data": {
      "text/plain": [
       "{'results': [{'year': '2016', 'persons': '163206'}],\n",
       " 'total': 163206,\n",
       " 'url': '#Z9mI',\n",
       " 'pagination': '<ul class=\"pagination\"><li class=\"page-item prev disabled\"><span class=\"page-link\"><i aria-hidden=\"true\">&#8249;</i><span class=\"sr-only\">Previous&nbsp;</span></span></li><li class=\"page-item active\"><span class=\"page-link\">1 <span class=\"sr-only\">(current)</span></span></li><li class=\"page-item next disabled\"><span class=\"page-link\"><span class=\"sr-only\">Next&nbsp;</span><i aria-hidden=\"true\">&#8250;</i></span></li></ul>',\n",
       " 'page': 1,\n",
       " 'totalPages': 1,\n",
       " 'chartFilterTypes': {'origin': False, 'asylum': False, 'resettlement': False}}"
      ]
     },
     "execution_count": 35,
     "metadata": {},
     "output_type": "execute_result"
    }
   ],
   "source": [
    "refugees_data_2016 = requests.get(\"http://api.unhcr.org/rsq/v1/submissions?year=2016\").json()\n",
    "refugees_data_2016"
   ]
  },
  {
   "attachments": {},
   "cell_type": "markdown",
   "metadata": {},
   "source": [
    "#### Extract the Total"
   ]
  },
  {
   "attachments": {},
   "cell_type": "markdown",
   "metadata": {},
   "source": [
    "In the JSON above, there are many fields.  We are interested in the total number of refugees, which is found in the key `total`.  Save just the total key -- by using `refugees_data_2016[\"total\"]` -- in the variable `refugees_2016`:"
   ]
  },
  {
   "cell_type": "code",
   "execution_count": 36,
   "metadata": {},
   "outputs": [
    {
     "data": {
      "text/plain": [
       "163206"
      ]
     },
     "execution_count": 36,
     "metadata": {},
     "output_type": "execute_result"
    }
   ],
   "source": [
    "refugees_2016 = refugees_data_2016[\"total\"]\n",
    "refugees_2016"
   ]
  },
  {
   "cell_type": "code",
   "execution_count": 37,
   "metadata": {},
   "outputs": [
    {
     "name": "stdout",
     "output_type": "stream",
     "text": [
      "🎉 All tests passed! 🎉\n"
     ]
    }
   ],
   "source": [
    "## == CHECKPOINT TEST CASES for Part 1 ==\n",
    "# - This read-only cell contains test cases for your previous cell.\n",
    "# - If this cell runs without any error our output, you PASSED all test cases!\n",
    "# - If this cell results in any errors, check you previous cell, make changes, and RE-RUN your code and then this cell.\n",
    "assert('refugees_2016' in vars()), \"Did you define a variable called refugees_2016?\"\n",
    "assert(refugees_2016 == 163206), \"It looks like you did not get the correct response for refugees_2016\"\n",
    "\n",
    "## == SUCCESS MESSAGE ==\n",
    "# You will only see this message (with the emoji showing) if you passed all test cases:\n",
    "tada = \"\\N{PARTY POPPER}\"\n",
    "print(f\"{tada} All tests passed! {tada}\")"
   ]
  },
  {
   "attachments": {},
   "cell_type": "markdown",
   "metadata": {},
   "source": [
    "<hr style=\"color: #DD3403;\">"
   ]
  },
  {
   "attachments": {},
   "cell_type": "markdown",
   "metadata": {},
   "source": [
    "## Part 2: Fetching Refugees Data for a ALL Years\n",
    "\n",
    "The UNHCR API allows you to query the data for many years.\n",
    "\n",
    "\n",
    "### Puzzle 2.1: Creating a Comma-Separated List of All Years"
   ]
  },
  {
   "attachments": {},
   "cell_type": "markdown",
   "metadata": {},
   "source": [
    "To reduce the amount of API calls for the years, we can use the `year` parameter to get the data for multiple years at once. The `year` parameter can take a list of years.\n",
    "\n",
    "- To provide a list of years, we need a comma-separated list of years.\n",
    "- To create a comma-separated list of years, we can use the `join` function to join a list of strings together.\n",
    "\n",
    "Here's how is works:\n",
    "\n",
    "--- \n",
    "\n",
    "```python\n",
    "# Example #1:\n",
    "myList = [\"a\", \"b\", \"c\"]   # Any list.\n",
    "\",\".join(myList)           # Joins the list elements with a comma between each element.\n",
    "# Result: \"a,b,c\"\n",
    "```\n",
    "\n",
    "```python\n",
    "# Example #2:\n",
    "myList = [\"a\", \"b\", \"c\"]   # Any list.\n",
    "\";\".join(myList)           # Joins the list elements with a semicolon between each element.\n",
    "# Result: \"a;b;c\"          # Notice the ; instead of the ,\n",
    "```\n",
    "\n",
    "```python\n",
    "# Example #3:\n",
    "myList = [\"Data\", \"Science\", \"DISCOVERY\"]\n",
    "\";\".join(myList)\n",
    "# Result: \"Data;Science;DISCOVERY\"\n",
    "```\n",
    "\n",
    "--- \n",
    "\n",
    "#### Lists of Integers\n",
    "\n",
    "Our data is slightly more complex, since we have years as integers (ex: `[2003, 2004, ...]`).  The only additional change we need to make is to convert the list to s string as part of joining the elements together:\n",
    "\n",
    "--- \n",
    "\n",
    "```python\n",
    "# Example #4:\n",
    "myList = [20, 30, 40]        # List of integers\n",
    "\",\".join(map(str, myList))   # Note the use of the `map` and `str` function on the list\n",
    "# Result: \"20,30,40\"\n",
    "```\n",
    "\n",
    "```python\n",
    "# Example #5:\n",
    "myList = [2003, 2004, 2005, 2006]\n",
    "\"+\".join(map(str, myList))\n",
    "# Result: \"2003+2004+2005+2006\"\n",
    "```\n",
    "\n",
    "--- \n",
    "\n",
    "#### Creating Our Comma-Separated List of Years\n",
    "\n",
    "In Puzzle 1.1, you created a `years` variable, let's refresh our memory on what's in it by running the cell below:"
   ]
  },
  {
   "cell_type": "code",
   "execution_count": 38,
   "metadata": {},
   "outputs": [
    {
     "data": {
      "text/plain": [
       "[2003,\n",
       " 2004,\n",
       " 2005,\n",
       " 2006,\n",
       " 2007,\n",
       " 2008,\n",
       " 2009,\n",
       " 2010,\n",
       " 2011,\n",
       " 2012,\n",
       " 2013,\n",
       " 2014,\n",
       " 2015,\n",
       " 2016,\n",
       " 2017,\n",
       " 2018,\n",
       " 2019,\n",
       " 2020,\n",
       " 2021,\n",
       " 2022,\n",
       " 2023]"
      ]
     },
     "execution_count": 38,
     "metadata": {},
     "output_type": "execute_result"
    }
   ],
   "source": [
    "years"
   ]
  },
  {
   "attachments": {},
   "cell_type": "markdown",
   "metadata": {},
   "source": [
    "Using all that you know now, create a comma-separated list of all years in a variable called `years_csv`:"
   ]
  },
  {
   "cell_type": "code",
   "execution_count": 39,
   "metadata": {},
   "outputs": [
    {
     "data": {
      "text/plain": [
       "'2003,2004,2005,2006,2007,2008,2009,2010,2011,2012,2013,2014,2015,2016,2017,2018,2019,2020,2021,2022,2023'"
      ]
     },
     "execution_count": 39,
     "metadata": {},
     "output_type": "execute_result"
    }
   ],
   "source": [
    "years_csv = \",\".join(map(str, years))\n",
    "years_csv"
   ]
  },
  {
   "attachments": {},
   "cell_type": "markdown",
   "metadata": {},
   "source": [
    "### Puzzle 2.2: URL Encoding Multiple Years"
   ]
  },
  {
   "attachments": {},
   "cell_type": "markdown",
   "metadata": {},
   "source": [
    "Finally, to send a list in a URL, the list needs to be formatted as a URL with \"URL Encoding\".\n",
    "\n",
    "- Your `years_csv` contains is a comma-separated string: `\"2003,2004,2005,2006[...]\"`\n",
    "- However, URL encoding requires some characters to be \"escaped\" and would be written as: `\"2003%2C2004%2C2005%2C2006[...]`\n",
    "\n",
    "\n",
    "Python provides the `urllib` library and the `urllib.parse.quote` function to do URL encoding.  See the following examples of using `urllib.parse.quote`:\n",
    "\n",
    "---\n",
    "\n",
    "```python\n",
    "import urllib\n",
    "urllib.parse.quote(\"?%,\")       # All characters need encoding\n",
    "# Result: %3F%25%2C\n",
    "```\n",
    "\n",
    "```python\n",
    "urllib.parse.quote(\"2016,2017\")  # Only the comma needs encoding\n",
    "# Result: 2016%2C2017\n",
    "```\n",
    "\n",
    "```python\n",
    "myString = \"Hello, world! %)\"    # Using a variable\n",
    "urllib.parse.quote(myString)\n",
    "# Result: Hello%2C%20world%21%20%25%29\n",
    "```\n",
    "\n",
    "---\n",
    "\n",
    "\n",
    "\n",
    "Use the `urllib.parse.quote` function to encode the variable `years_csv` that you created in the previous code cell.  Save this encoded string as a new variable `encoded_years`:"
   ]
  },
  {
   "cell_type": "code",
   "execution_count": 40,
   "metadata": {},
   "outputs": [
    {
     "data": {
      "text/plain": [
       "'2003%2C2004%2C2005%2C2006%2C2007%2C2008%2C2009%2C2010%2C2011%2C2012%2C2013%2C2014%2C2015%2C2016%2C2017%2C2018%2C2019%2C2020%2C2021%2C2022%2C2023'"
      ]
     },
     "execution_count": 40,
     "metadata": {},
     "output_type": "execute_result"
    }
   ],
   "source": [
    "import urllib\n",
    "\n",
    "encoded_years = urllib.parse.quote(years_csv)\n",
    "encoded_years"
   ]
  },
  {
   "cell_type": "code",
   "execution_count": 41,
   "metadata": {},
   "outputs": [
    {
     "name": "stdout",
     "output_type": "stream",
     "text": [
      "🎉 All tests passed! 🎉\n"
     ]
    }
   ],
   "source": [
    "## == CHECKPOINT TEST CASES for Part 2.1 and 2.2 ==\n",
    "# - This read-only cell contains test cases for your previous cell.\n",
    "# - If this cell runs without any error our output, you PASSED all test cases!\n",
    "# - If this cell results in any errors, check you previous cell, make changes, and RE-RUN your code and then this cell.\n",
    "assert('encoded_years' in vars()), \"Did you define a variable called encoded_years?\"\n",
    "assert(encoded_years[0:10] == '2003%2C200'), \"It looks like you did not encode the string properly\"\n",
    "assert(encoded_years[12:30] == '2C2005%2C2006%2C20'), \"It looks like you did not encode the string properly\"\n",
    "\n",
    "## == SUCCESS MESSAGE ==\n",
    "# You will only see this message (with the emoji showing) if you passed all test cases:\n",
    "tada = \"\\N{PARTY POPPER}\"\n",
    "print(f\"{tada} All tests passed! {tada}\")"
   ]
  },
  {
   "attachments": {},
   "cell_type": "markdown",
   "metadata": {},
   "source": [
    "### Puzzle 2.3: Fetching the Number of Refugees for All Years"
   ]
  },
  {
   "attachments": {},
   "cell_type": "markdown",
   "metadata": {},
   "source": [
    "In Puzzle 1.2, you found the number of refugees in 2016.  Let's get the number of refugees for **ALL** years!\n",
    "\n",
    "- Identical to Puzzle 1.2, create a `refugees_data_ALL` variable that contains the refugee data from the API for ALL years.\n",
    "\n",
    "You will still use the same endpoint:\n",
    "\n",
    "```\n",
    "http://api.unhcr.org/rsq/v1/submissions?year={year}\n",
    "```\n",
    "\n",
    "However, `{year}` should now use your `encoded_years` of every year **INSTEAD OF** just a single year.  Store the response JSON as the variable `refugees_data_ALL`:"
   ]
  },
  {
   "cell_type": "code",
   "execution_count": 42,
   "metadata": {},
   "outputs": [
    {
     "data": {
      "text/plain": [
       "{'results': [{'year': '2003', 'persons': '35314'},\n",
       "  {'year': '2004', 'persons': '39510'},\n",
       "  {'year': '2005', 'persons': '46260'},\n",
       "  {'year': '2006', 'persons': '54182'},\n",
       "  {'year': '2007', 'persons': '99015'},\n",
       "  {'year': '2008', 'persons': '121214'},\n",
       "  {'year': '2009', 'persons': '128558'},\n",
       "  {'year': '2010', 'persons': '108042'},\n",
       "  {'year': '2011', 'persons': '91846'},\n",
       "  {'year': '2012', 'persons': '74840'},\n",
       "  {'year': '2013', 'persons': '92915'},\n",
       "  {'year': '2014', 'persons': '103890'},\n",
       "  {'year': '2015', 'persons': '134044'},\n",
       "  {'year': '2016', 'persons': '163206'},\n",
       "  {'year': '2017', 'persons': '75188'},\n",
       "  {'year': '2018', 'persons': '81337'},\n",
       "  {'year': '2019', 'persons': '81671'},\n",
       "  {'year': '2020', 'persons': '39534'},\n",
       "  {'year': '2021', 'persons': '63190'},\n",
       "  {'year': '2022', 'persons': '116481'}],\n",
       " 'total': 1758279,\n",
       " 'url': '#Bq9v',\n",
       " 'pagination': '<ul class=\"pagination\"><li class=\"page-item prev disabled\"><span class=\"page-link\"><i aria-hidden=\"true\">&#8249;</i><span class=\"sr-only\">Previous&nbsp;</span></span></li><li class=\"page-item active\"><span class=\"page-link\">1 <span class=\"sr-only\">(current)</span></span></li><li class=\"page-item\"><a class=\"page-link\" href=\"https://api.unhcr.org/rsq/v1/submissions?year=2003%2C2004%2C2005%2C2006%2C2007%2C2008%2C2009%2C2010%2C2011%2C2012%2C2013%2C2014%2C2015%2C2016%2C2017%2C2018%2C2019%2C2020%2C2021%2C2022%2C2023&year=2003%2C2004%2C2005%2C2006%2C2007%2C2008%2C2009%2C2010%2C2011%2C2012%2C2013%2C2014%2C2015%2C2016%2C2017%2C2018%2C2019%2C2020%2C2021%2C2022%2C2023&page=2\">2</a></li><li class=\"page-item next\"><a class=\"page-link\" href=\"https://api.unhcr.org/rsq/v1/submissions?year=2003%2C2004%2C2005%2C2006%2C2007%2C2008%2C2009%2C2010%2C2011%2C2012%2C2013%2C2014%2C2015%2C2016%2C2017%2C2018%2C2019%2C2020%2C2021%2C2022%2C2023&year=2003%2C2004%2C2005%2C2006%2C2007%2C2008%2C2009%2C2010%2C2011%2C2012%2C2013%2C2014%2C2015%2C2016%2C2017%2C2018%2C2019%2C2020%2C2021%2C2022%2C2023&page=2\" rel=\"next\"><span class=\"sr-only\">Next&nbsp;</span><i aria-hidden=\"true\">&#8250;</i></a></li></ul>',\n",
       " 'page': 1,\n",
       " 'totalPages': 2,\n",
       " 'chartFilterTypes': {'origin': False, 'asylum': False, 'resettlement': False}}"
      ]
     },
     "execution_count": 42,
     "metadata": {},
     "output_type": "execute_result"
    }
   ],
   "source": [
    "refugees_data_ALL = requests.get(\"http://api.unhcr.org/rsq/v1/submissions?year=\" + encoded_years).json()\n",
    "refugees_data_ALL"
   ]
  },
  {
   "attachments": {},
   "cell_type": "markdown",
   "metadata": {},
   "source": [
    "#### Create a DataFrame\n",
    "\n",
    "In the JSON above, there are many fields.  We are interested in the total number of refugees each year, all of which is found in the key `results`.  Since it is a list of dictionaries, it can automatically be used as a DataFrame.\n",
    "\n",
    "Using `pd.DataFrame(...)`, create a new DataFrame `refugees_per_year` from the `refugees_data_ALL[\"results\"]` data:"
   ]
  },
  {
   "cell_type": "code",
   "execution_count": 44,
   "metadata": {},
   "outputs": [
    {
     "data": {
      "text/html": [
       "<div>\n",
       "<style scoped>\n",
       "    .dataframe tbody tr th:only-of-type {\n",
       "        vertical-align: middle;\n",
       "    }\n",
       "\n",
       "    .dataframe tbody tr th {\n",
       "        vertical-align: top;\n",
       "    }\n",
       "\n",
       "    .dataframe thead th {\n",
       "        text-align: right;\n",
       "    }\n",
       "</style>\n",
       "<table border=\"1\" class=\"dataframe\">\n",
       "  <thead>\n",
       "    <tr style=\"text-align: right;\">\n",
       "      <th></th>\n",
       "      <th>year</th>\n",
       "      <th>persons</th>\n",
       "    </tr>\n",
       "  </thead>\n",
       "  <tbody>\n",
       "    <tr>\n",
       "      <th>0</th>\n",
       "      <td>2003</td>\n",
       "      <td>35314</td>\n",
       "    </tr>\n",
       "    <tr>\n",
       "      <th>1</th>\n",
       "      <td>2004</td>\n",
       "      <td>39510</td>\n",
       "    </tr>\n",
       "    <tr>\n",
       "      <th>2</th>\n",
       "      <td>2005</td>\n",
       "      <td>46260</td>\n",
       "    </tr>\n",
       "    <tr>\n",
       "      <th>3</th>\n",
       "      <td>2006</td>\n",
       "      <td>54182</td>\n",
       "    </tr>\n",
       "    <tr>\n",
       "      <th>4</th>\n",
       "      <td>2007</td>\n",
       "      <td>99015</td>\n",
       "    </tr>\n",
       "    <tr>\n",
       "      <th>5</th>\n",
       "      <td>2008</td>\n",
       "      <td>121214</td>\n",
       "    </tr>\n",
       "    <tr>\n",
       "      <th>6</th>\n",
       "      <td>2009</td>\n",
       "      <td>128558</td>\n",
       "    </tr>\n",
       "    <tr>\n",
       "      <th>7</th>\n",
       "      <td>2010</td>\n",
       "      <td>108042</td>\n",
       "    </tr>\n",
       "    <tr>\n",
       "      <th>8</th>\n",
       "      <td>2011</td>\n",
       "      <td>91846</td>\n",
       "    </tr>\n",
       "    <tr>\n",
       "      <th>9</th>\n",
       "      <td>2012</td>\n",
       "      <td>74840</td>\n",
       "    </tr>\n",
       "    <tr>\n",
       "      <th>10</th>\n",
       "      <td>2013</td>\n",
       "      <td>92915</td>\n",
       "    </tr>\n",
       "    <tr>\n",
       "      <th>11</th>\n",
       "      <td>2014</td>\n",
       "      <td>103890</td>\n",
       "    </tr>\n",
       "    <tr>\n",
       "      <th>12</th>\n",
       "      <td>2015</td>\n",
       "      <td>134044</td>\n",
       "    </tr>\n",
       "    <tr>\n",
       "      <th>13</th>\n",
       "      <td>2016</td>\n",
       "      <td>163206</td>\n",
       "    </tr>\n",
       "    <tr>\n",
       "      <th>14</th>\n",
       "      <td>2017</td>\n",
       "      <td>75188</td>\n",
       "    </tr>\n",
       "    <tr>\n",
       "      <th>15</th>\n",
       "      <td>2018</td>\n",
       "      <td>81337</td>\n",
       "    </tr>\n",
       "    <tr>\n",
       "      <th>16</th>\n",
       "      <td>2019</td>\n",
       "      <td>81671</td>\n",
       "    </tr>\n",
       "    <tr>\n",
       "      <th>17</th>\n",
       "      <td>2020</td>\n",
       "      <td>39534</td>\n",
       "    </tr>\n",
       "    <tr>\n",
       "      <th>18</th>\n",
       "      <td>2021</td>\n",
       "      <td>63190</td>\n",
       "    </tr>\n",
       "    <tr>\n",
       "      <th>19</th>\n",
       "      <td>2022</td>\n",
       "      <td>116481</td>\n",
       "    </tr>\n",
       "  </tbody>\n",
       "</table>\n",
       "</div>"
      ],
      "text/plain": [
       "    year persons\n",
       "0   2003   35314\n",
       "1   2004   39510\n",
       "2   2005   46260\n",
       "3   2006   54182\n",
       "4   2007   99015\n",
       "5   2008  121214\n",
       "6   2009  128558\n",
       "7   2010  108042\n",
       "8   2011   91846\n",
       "9   2012   74840\n",
       "10  2013   92915\n",
       "11  2014  103890\n",
       "12  2015  134044\n",
       "13  2016  163206\n",
       "14  2017   75188\n",
       "15  2018   81337\n",
       "16  2019   81671\n",
       "17  2020   39534\n",
       "18  2021   63190\n",
       "19  2022  116481"
      ]
     },
     "execution_count": 44,
     "metadata": {},
     "output_type": "execute_result"
    }
   ],
   "source": [
    "refugees_per_year = pd.DataFrame(refugees_data_ALL[\"results\"])\n",
    "refugees_per_year"
   ]
  },
  {
   "cell_type": "code",
   "execution_count": 45,
   "metadata": {},
   "outputs": [
    {
     "name": "stdout",
     "output_type": "stream",
     "text": [
      "🎉 All tests passed! 🎉\n"
     ]
    }
   ],
   "source": [
    "## == CHECKPOINT TEST CASES for Part 2 ==\n",
    "# - This read-only cell contains test cases for your previous cell.\n",
    "# - If this cell runs without any error our output, you PASSED all test cases!\n",
    "# - If this cell results in any errors, check you previous cell, make changes, and RE-RUN your code and then this cell.\n",
    "assert('refugees_per_year' in vars()), \"Did you define a variable called refugees_per_year?\"\n",
    "assert(len(refugees_per_year) == 20), \"It looks like you did not get the correct response\"\n",
    "assert(refugees_per_year[\"persons\"].iloc[0] == \"35314\"), \"It looks like you did not get the correct response\"\n",
    "assert(refugees_per_year[\"persons\"].iloc[9] == \"74840\"), \"It looks like you did not get the correct response\"\n",
    "assert(refugees_per_year[\"year\"].iloc[10] == \"2013\"), \"It looks like you did not get the correct response\"\n",
    "\n",
    "## == SUCCESS MESSAGE ==\n",
    "# You will only see this message (with the emoji showing) if you passed all test cases:\n",
    "tada = \"\\N{PARTY POPPER}\"\n",
    "print(f\"{tada} All tests passed! {tada}\")"
   ]
  },
  {
   "attachments": {},
   "cell_type": "markdown",
   "metadata": {},
   "source": [
    "<hr style=\"color: #DD3403;\">"
   ]
  },
  {
   "attachments": {},
   "cell_type": "markdown",
   "metadata": {},
   "source": [
    "## Puzzle 3: Creating a Histogram of Refugees by Year"
   ]
  },
  {
   "attachments": {},
   "cell_type": "markdown",
   "metadata": {},
   "source": [
    "Finally, let's create a histogram!  Since we imported the DataFrame from a JSON object, all of the data in the DataFrame are generic \"objects\" (even though they're numbers).  You cna see the **type** of data being stored in each column by running `refugees_per_year.dtypes`:"
   ]
  },
  {
   "cell_type": "code",
   "execution_count": 46,
   "metadata": {},
   "outputs": [
    {
     "data": {
      "text/plain": [
       "year       object\n",
       "persons    object\n",
       "dtype: object"
      ]
     },
     "execution_count": 46,
     "metadata": {},
     "output_type": "execute_result"
    }
   ],
   "source": [
    "refugees_per_year.dtypes"
   ]
  },
  {
   "attachments": {},
   "cell_type": "markdown",
   "metadata": {},
   "source": [
    "To convert data to the best numeric format, the `pd.to_numeric` transforms a column into the best numeric data type.  To convert the \"year\" column from a generic object:\n",
    "\n",
    "```python\n",
    "refugees_per_year['year'] = pd.to_numeric(refugees_per_year['year'])\n",
    "```\n",
    "\n",
    "Convert both `year` and `persons` column into numeric columns:"
   ]
  },
  {
   "cell_type": "code",
   "execution_count": 47,
   "metadata": {},
   "outputs": [],
   "source": [
    "refugees_per_year['year'] = pd.to_numeric(refugees_per_year['year'] )\n",
    "refugees_per_year['persons'] = pd.to_numeric(refugees_per_year['persons'] )"
   ]
  },
  {
   "attachments": {},
   "cell_type": "markdown",
   "metadata": {},
   "source": [
    "Let's check out how the data types (dtypes) have changed:"
   ]
  },
  {
   "cell_type": "code",
   "execution_count": 48,
   "metadata": {},
   "outputs": [
    {
     "data": {
      "text/plain": [
       "year       int64\n",
       "persons    int64\n",
       "dtype: object"
      ]
     },
     "execution_count": 48,
     "metadata": {},
     "output_type": "execute_result"
    }
   ],
   "source": [
    "refugees_per_year.dtypes"
   ]
  },
  {
   "attachments": {},
   "cell_type": "markdown",
   "metadata": {},
   "source": [
    "Finally, let's check out our plot:"
   ]
  },
  {
   "cell_type": "code",
   "execution_count": 49,
   "metadata": {},
   "outputs": [
    {
     "data": {
      "text/plain": [
       "<Axes: xlabel='year'>"
      ]
     },
     "execution_count": 49,
     "metadata": {},
     "output_type": "execute_result"
    },
    {
     "data": {
      "image/png": "[encoded data removed]",
      "text/plain": [
       "<Figure size 1400x700 with 1 Axes>"
      ]
     },
     "metadata": {},
     "output_type": "display_data"
    }
   ],
   "source": [
    "refugees_per_year.plot.bar(x='year', y='persons', figsize=(14, 7))"
   ]
  },
  {
   "cell_type": "code",
   "execution_count": 50,
   "metadata": {},
   "outputs": [
    {
     "name": "stdout",
     "output_type": "stream",
     "text": [
      "🎉 All tests passed! 🎉\n"
     ]
    }
   ],
   "source": [
    "## == CHECKPOINT TEST CASES for Part 3 ==\n",
    "# - This read-only cell contains test cases for your previous cell.\n",
    "# - If this cell runs without any error our output, you PASSED all test cases!\n",
    "# - If this cell results in any errors, check you previous cell, make changes, and RE-RUN your code and then this cell.\n",
    "assert('refugees_per_year' in vars()), \"Did you define a variable called refugees_per_year?\"\n",
    "assert(str(refugees_per_year.dtypes[\"year\"]) != \"object\")\n",
    "assert(str(refugees_per_year.dtypes[\"persons\"]) != \"object\")\n",
    "\n",
    "## == SUCCESS MESSAGE ==\n",
    "# You will only see this message (with the emoji showing) if you passed all test cases:\n",
    "tada = \"\\N{PARTY POPPER}\"\n",
    "print(f\"{tada} All tests passed! {tada}\")"
   ]
  },
  {
   "attachments": {},
   "cell_type": "markdown",
   "metadata": {},
   "source": [
    "<hr style=\"color: #DD3403;\">"
   ]
  },
  {
   "attachments": {},
   "cell_type": "markdown",
   "metadata": {},
   "source": [
    "## Submission\n",
    "\n",
    "You're almost done!  All you need to do is to commit your lab to GitHub and run the GitHub Actions Grader:\n",
    "\n",
    "1.  ⚠️ **Make certain to save your work.** ⚠️ To do this, go to **File => Save All**\n",
    "\n",
    "2.  After you have saved, exit this notebook and follow the instructions to commit and grade this MicroProject!"
   ]
  }
 ],
 "metadata": {
  "kernelspec": {
   "display_name": "base2",
   "language": "python",
   "name": "python3"
  },
  "language_info": {
   "codemirror_mode": {
    "name": "ipython",
    "version": 3
   },
   "file_extension": ".py",
   "mimetype": "text/x-python",
   "name": "python",
   "nbconvert_exporter": "python",
   "pygments_lexer": "ipython3",
   "version": "3.10.9"
  },
  "orig_nbformat": 4
 },
 "nbformat": 4,
 "nbformat_minor": 2
}
